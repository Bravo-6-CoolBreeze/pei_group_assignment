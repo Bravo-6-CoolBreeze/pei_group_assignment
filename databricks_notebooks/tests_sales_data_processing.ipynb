{
 "cells": [
  {
   "cell_type": "code",
   "execution_count": 0,
   "metadata": {
    "application/vnd.databricks.v1+cell": {
     "cellMetadata": {
      "byteLimit": 2048000,
      "rowLimit": 10000
     },
     "inputWidgets": {},
     "nuid": "2cd7c9b7-e662-4c34-b099-9ec4fe6203c8",
     "showTitle": false,
     "tableResultSettingsMap": {},
     "title": ""
    }
   },
   "outputs": [
    {
     "output_type": "stream",
     "name": "stdout",
     "output_type": "stream",
     "text": [
      "Requirement already satisfied: openpyxl in /local_disk0/.ephemeral_nfs/envs/pythonEnv-6d79b53c-9476-432c-8e87-1e146795c0bb/lib/python3.11/site-packages (3.1.5)\nRequirement already satisfied: et-xmlfile in /local_disk0/.ephemeral_nfs/envs/pythonEnv-6d79b53c-9476-432c-8e87-1e146795c0bb/lib/python3.11/site-packages (from openpyxl) (2.0.0)\n\u001B[43mNote: you may need to restart the kernel using %restart_python or dbutils.library.restartPython() to use updated packages.\u001B[0m\n"
     ]
    }
   ],
   "source": [
    "%pip install --upgrade openpyxl"
   ]
  },
  {
   "cell_type": "code",
   "execution_count": 0,
   "metadata": {
    "application/vnd.databricks.v1+cell": {
     "cellMetadata": {
      "byteLimit": 2048000,
      "rowLimit": 10000
     },
     "inputWidgets": {},
     "nuid": "54625198-0289-4543-ac72-326892a78ff1",
     "showTitle": false,
     "tableResultSettingsMap": {},
     "title": ""
    }
   },
   "outputs": [],
   "source": [
    "%run ./sales_data_processing_helper"
   ]
  },
  {
   "cell_type": "code",
   "execution_count": 0,
   "metadata": {
    "application/vnd.databricks.v1+cell": {
     "cellMetadata": {
      "byteLimit": 2048000,
      "rowLimit": 10000
     },
     "inputWidgets": {},
     "nuid": "371eb4c6-9cee-453a-a9dd-cdd9c8d0043c",
     "showTitle": false,
     "tableResultSettingsMap": {},
     "title": ""
    }
   },
   "outputs": [],
   "source": [
    "from decimal import Decimal\n",
    "from datetime import datetime"
   ]
  },
  {
   "cell_type": "code",
   "execution_count": 0,
   "metadata": {
    "application/vnd.databricks.v1+cell": {
     "cellMetadata": {
      "byteLimit": 2048000,
      "rowLimit": 10000
     },
     "inputWidgets": {},
     "nuid": "6bb62861-e71d-47ae-9c5d-38a1c7a0c900",
     "showTitle": false,
     "tableResultSettingsMap": {},
     "title": ""
    }
   },
   "outputs": [],
   "source": [
    "customer_data_file_path = \"/Volumes/sales/bronze/raw_data_files/Customer.xlsx\"\n",
    "orders_data_file_path = \"/Volumes/sales/bronze/raw_data_files/Orders.json\"\n",
    "products_data_file_path = \"/Volumes/sales/bronze/raw_data_files/Products.csv\""
   ]
  },
  {
   "cell_type": "code",
   "execution_count": 0,
   "metadata": {
    "application/vnd.databricks.v1+cell": {
     "cellMetadata": {
      "byteLimit": 2048000,
      "rowLimit": 10000
     },
     "inputWidgets": {},
     "nuid": "f6045f9e-9edc-4cc9-b293-43898e90178c",
     "showTitle": false,
     "tableResultSettingsMap": {},
     "title": ""
    }
   },
   "outputs": [],
   "source": [
    "# Test read_raw_customers function\n",
    "def test_read_raw_customers():\n",
    "    customers_df = read_raw_customers(customer_data_file_path)\n",
    "\n",
    "    assert customers_df.count() == 793\n",
    "    assert customers_df.dtypes == [(\"customer_id\", \"string\"), (\"customer_name\", \"string\"), (\"email\", \"string\"),\n",
    "                                    (\"phone\", \"string\"), (\"address\", \"string\"), (\"segment\", \"string\"), \n",
    "                                    (\"country\", \"string\"), (\"city\", \"string\"), (\"state\", \"string\"),\n",
    "                                    (\"postal_code\", \"string\"), (\"region\", \"string\")]\n",
    "    logger.info(\"test_read_raw_customers: PASSED\")"
   ]
  },
  {
   "cell_type": "code",
   "execution_count": 0,
   "metadata": {
    "application/vnd.databricks.v1+cell": {
     "cellMetadata": {
      "byteLimit": 2048000,
      "rowLimit": 10000
     },
     "inputWidgets": {},
     "nuid": "5baaa48a-dacd-456a-8a02-69e52574e186",
     "showTitle": false,
     "tableResultSettingsMap": {},
     "title": ""
    }
   },
   "outputs": [],
   "source": [
    "# Test read_raw_orders function\n",
    "def test_read_raw_orders():\n",
    "    orders_df = read_raw_orders(orders_data_file_path)\n",
    "\n",
    "    assert orders_df.count() == 9994\n",
    "    assert orders_df.dtypes == [('customer_id', 'string'), ('discount', 'string'), ('order_date', 'string'),\n",
    "                                ('order_id', 'string'), ('price', 'string'), ('product_id', 'string'),\n",
    "                                ('profit', 'string'), ('quantity', 'string'), ('row_id', 'string'),\n",
    "                                ('ship_date', 'string'), ('ship_mode', 'string')]\n",
    "    logger.info(\"test_read_raw_orders: PASSED\")"
   ]
  },
  {
   "cell_type": "code",
   "execution_count": 0,
   "metadata": {
    "application/vnd.databricks.v1+cell": {
     "cellMetadata": {
      "byteLimit": 2048000,
      "rowLimit": 10000
     },
     "inputWidgets": {},
     "nuid": "a16f62eb-97f3-4900-a4c3-42f672c201c9",
     "showTitle": false,
     "tableResultSettingsMap": {},
     "title": ""
    }
   },
   "outputs": [],
   "source": [
    "# Test read_raw_products function\n",
    "def test_read_raw_products():\n",
    "    products_df = read_raw_products(products_data_file_path)\n",
    "\n",
    "    assert products_df.count() == 1851\n",
    "    assert products_df.dtypes == [('product_id', 'string'), ('category', 'string'), ('sub_category', 'string'),\n",
    "                                    ('product_name', 'string'), ('state', 'string'), ('price_per_product', 'string')]\n",
    "    logger.info(\"test_read_raw_products: PASSED\")"
   ]
  },
  {
   "cell_type": "code",
   "execution_count": 0,
   "metadata": {
    "application/vnd.databricks.v1+cell": {
     "cellMetadata": {
      "byteLimit": 2048000,
      "rowLimit": 10000
     },
     "inputWidgets": {},
     "nuid": "0b338a06-0be7-4850-81ef-aa543abe1e54",
     "showTitle": false,
     "tableResultSettingsMap": {},
     "title": ""
    }
   },
   "outputs": [],
   "source": [
    "# Test clean_customers function\n",
    "def test_clean_customers():\n",
    "    # Create sample raw customers dataframe\n",
    "    customer_schema = StructType([\n",
    "        StructField(\"customer_id\", StringType(), True),\n",
    "        StructField(\"customer_name\", StringType(), True),\n",
    "        StructField(\"email\", StringType(), True),\n",
    "        StructField(\"phone\", StringType(), True),\n",
    "        StructField(\"address\", StringType(), True),\n",
    "        StructField(\"segment\", StringType(), True),\n",
    "        StructField(\"country\", StringType(), True),\n",
    "        StructField(\"city\", StringType(), True),\n",
    "        StructField(\"state\", StringType(), True),\n",
    "        StructField(\"postal_code\", StringType(), True),\n",
    "        StructField(\"region\", StringType(), True)\n",
    "    ])\n",
    "    data = [\n",
    "        (\"PT-19090\", \"Pete@#$ Takahito\", \"mikaylaarnold666@gmail.com\", \"786.638.6820\", \n",
    "        \"0236 Lane Squares\\nPort Samantha, ME 15670\", \"Consumer\", \"United States\", \n",
    "        \"San Antonio\", \"Texas\", \"78207\", \"Central\"),\n",
    "        (\"GH-14410\", \"Gary567 Hansen\", \"austindyer948@gmail.com\", \"001-542-415-0246x314\", \n",
    "        \"00347 Murphy Unions\\nAshleyton, IA 29814\", \"Home Office\", \"United States\", \n",
    "        \"Chicago\", \"Illinois\", \"60653\", \"Central\")\n",
    "    ]\n",
    "    df = spark.createDataFrame(data, customer_schema)\n",
    "\n",
    "    cleaned_customers_df = clean_customers(df)\n",
    "        \n",
    "    assert cleaned_customers_df.count() == 2\n",
    "    assert cleaned_customers_df.dtypes == [(\"customer_id\", \"string\"), (\"customer_name\", \"string\"), (\"email\", \"string\"),\n",
    "                                            (\"phone\", \"string\"), (\"address\", \"string\"), (\"segment\", \"string\"), \n",
    "                                            (\"country\", \"string\"), (\"city\", \"string\"), (\"state\", \"string\"),\n",
    "                                            (\"postal_code\", \"string\"), (\"region\", \"string\")]\n",
    "    assert (\n",
    "        {cleaned_customers_df.collect()[0][\"customer_name\"], \n",
    "            cleaned_customers_df.collect()[1][\"customer_name\"]} == {\"PeteTakahito\", \"GaryHansen\"}\n",
    "    )\n",
    "    assert (\n",
    "        {cleaned_customers_df.collect()[0][\"phone\"], \n",
    "            cleaned_customers_df.collect()[1][\"phone\"]} == {\"7866386820\", \"0015424150246314\"}\n",
    "    )\n",
    "    logger.info(\"test_clean_customers: PASSED\")"
   ]
  },
  {
   "cell_type": "code",
   "execution_count": 0,
   "metadata": {
    "application/vnd.databricks.v1+cell": {
     "cellMetadata": {
      "byteLimit": 2048000,
      "rowLimit": 10000
     },
     "inputWidgets": {},
     "nuid": "c82f85a8-2da9-4dcc-bb9d-a9b10315e328",
     "showTitle": false,
     "tableResultSettingsMap": {},
     "title": ""
    }
   },
   "outputs": [],
   "source": [
    "# Test clean_orders function\n",
    "def test_clean_orders():\n",
    "    # Create sample raw orders dataframe\n",
    "    orders_schema = StructType([\n",
    "        StructField(\"customer_id\", StringType(), True),\n",
    "        StructField(\"discount\", StringType(), True),\n",
    "        StructField(\"order_date\", StringType(), True),\n",
    "        StructField(\"order_id\", StringType(), True),\n",
    "        StructField(\"price\", StringType(), True),\n",
    "        StructField(\"product_id\", StringType(), True),\n",
    "        StructField(\"profit\", StringType(), True),\n",
    "        StructField(\"quantity\", StringType(), True),\n",
    "        StructField(\"row_id\", StringType(), True),\n",
    "        StructField(\"ship_date\", StringType(), True),\n",
    "        StructField(\"ship_mode\", StringType(), True)\n",
    "    ])\n",
    "    data = [\n",
    "            (\"CB-12025\", \"0\", \"27/11/2016\", \"CA-2016-117583\", \"79.95\", \"OFF-BI-10004233\", \"38.38\", \"5\", \"6\", \"30/11/2016\", \"First Class\"),\n",
    "            (\"AB-10105\", \"0.7\", \"19/9/2017\", \"CA-2017-153822\", \"18.18\", \"OFF-BI-10001460\", \"-13.94\", \"4\", \"13\", \"25/9/2017\", \"Standard Class\")\n",
    "        ]\n",
    "    df = spark.createDataFrame(data, orders_schema)\n",
    "\n",
    "    cleaned_orders_df = clean_orders(df)\n",
    "        \n",
    "    assert cleaned_orders_df.count() == 2\n",
    "    assert cleaned_orders_df.dtypes == [('customer_id', 'string'), ('discount', 'decimal(10,2)'), ('order_date', 'date'),\n",
    "                                        ('order_id', 'string'), ('price', 'decimal(10,2)'), ('product_id', 'string'),\n",
    "                                        ('profit', 'decimal(10,2)'), ('quantity', 'int'), ('row_id', 'string'),\n",
    "                                        ('ship_date', 'date'), ('ship_mode', 'string')]\n",
    "    assert (\n",
    "        {cleaned_orders_df.collect()[0][\"discount\"], \n",
    "            cleaned_orders_df.collect()[1][\"discount\"]} == {Decimal(\"0.00\"), Decimal(\"0.70\")}\n",
    "    )\n",
    "    assert (\n",
    "        {cleaned_orders_df.collect()[0][\"order_date\"], \n",
    "            cleaned_orders_df.collect()[1][\"order_date\"]} == {datetime.strptime(\"27/11/2016\", \"%d/%m/%Y\").date(), \n",
    "                                                                datetime.strptime(\"19/9/2017\", \"%d/%m/%Y\").date()}\n",
    "    )\n",
    "    assert (\n",
    "        {cleaned_orders_df.collect()[0][\"price\"], \n",
    "            cleaned_orders_df.collect()[1][\"price\"]} == {Decimal(\"79.95\"), Decimal(\"18.18\")}\n",
    "    )\n",
    "    assert (\n",
    "        {cleaned_orders_df.collect()[0][\"profit\"], \n",
    "            cleaned_orders_df.collect()[1][\"profit\"]} == {Decimal(\"38.38\"), Decimal(\"-13.94\")}\n",
    "    )\n",
    "    assert (\n",
    "        {cleaned_orders_df.collect()[0][\"quantity\"], \n",
    "            cleaned_orders_df.collect()[1][\"quantity\"]} == {5, 4}\n",
    "    )\n",
    "    assert (\n",
    "        {cleaned_orders_df.collect()[0][\"ship_date\"], \n",
    "            cleaned_orders_df.collect()[1][\"ship_date\"]} == {datetime.strptime(\"30/11/2016\", \"%d/%m/%Y\").date(), \n",
    "                                                                datetime.strptime(\"25/9/2017\", \"%d/%m/%Y\").date()}\n",
    "    )\n",
    "    logger.info(\"test_clean_orders: PASSED\")"
   ]
  },
  {
   "cell_type": "code",
   "execution_count": 0,
   "metadata": {
    "application/vnd.databricks.v1+cell": {
     "cellMetadata": {
      "byteLimit": 2048000,
      "rowLimit": 10000
     },
     "inputWidgets": {},
     "nuid": "971f513d-0e49-46d7-9320-067e213a0b62",
     "showTitle": false,
     "tableResultSettingsMap": {},
     "title": ""
    }
   },
   "outputs": [],
   "source": [
    "# Test clean_products function\n",
    "def test_clean_products():\n",
    "    # Create sample raw products dataframe\n",
    "    products_schema = StructType([\n",
    "        StructField(\"product_id\", StringType(), True),\n",
    "        StructField(\"category\", StringType(), True),\n",
    "        StructField(\"sub_category\", StringType(), True),\n",
    "        StructField(\"product_name\", StringType(), True),\n",
    "        StructField(\"state\", StringType(), True),\n",
    "        StructField(\"price_per_product\", StringType(), True)\n",
    "    ])\n",
    "    data = [\n",
    "        (\"OFF-BI-10004233\", \"Office Supplies\", \"Binders\", 'GBC Pre-Punched Binding Paper, Plastic, White, 8-1/2\" x 11\"', \"New Jersey\", \"15.99\"),\n",
    "        (\"OFF-AP-10002118\", \"Office Supplies\", \"Appliances\", '1.7 Cubic Foot Compact \"Cube\" Office Refrigerators', \"Alabama\", \"208\")\n",
    "    ]\n",
    "    df = spark.createDataFrame(data, products_schema)\n",
    "\n",
    "    cleaned_products_df = clean_products(df)\n",
    "    \n",
    "    assert cleaned_products_df.count() == 2\n",
    "    assert cleaned_products_df.dtypes == [('product_id', 'string'), ('category', 'string'), ('sub_category', 'string'),\n",
    "                                            ('product_name', 'string'), ('state', 'string'), \n",
    "                                            ('price_per_product', 'decimal(10,2)')]\n",
    "    assert (\n",
    "            {cleaned_products_df.collect()[0][\"price_per_product\"], \n",
    "                cleaned_products_df.collect()[1][\"price_per_product\"]}  == {Decimal(\"15.99\"), Decimal(\"208.00\")}\n",
    "    )\n",
    "    logger.info(\"test_clean_products: PASSED\")"
   ]
  },
  {
   "cell_type": "code",
   "execution_count": 0,
   "metadata": {
    "application/vnd.databricks.v1+cell": {
     "cellMetadata": {
      "byteLimit": 2048000,
      "rowLimit": 10000
     },
     "inputWidgets": {},
     "nuid": "dacdf74b-7a61-4e09-855a-1a83bbd55acb",
     "showTitle": false,
     "tableResultSettingsMap": {},
     "title": ""
    }
   },
   "outputs": [],
   "source": [
    "# Test create_enriched_orders_df function\n",
    "def test_create_enriched_orders_df():\n",
    "    # Create sample cleaned data\n",
    "    customer_schema = StructType([\n",
    "        StructField(\"customer_id\", StringType(), True),\n",
    "        StructField(\"customer_name\", StringType(), True),\n",
    "        StructField(\"email\", StringType(), True),\n",
    "        StructField(\"phone\", StringType(), True),\n",
    "        StructField(\"address\", StringType(), True),\n",
    "        StructField(\"segment\", StringType(), True),\n",
    "        StructField(\"country\", StringType(), True),\n",
    "        StructField(\"city\", StringType(), True),\n",
    "        StructField(\"state\", StringType(), True),\n",
    "        StructField(\"postal_code\", StringType(), True),\n",
    "        StructField(\"region\", StringType(), True)\n",
    "    ])\n",
    "    customer_data = [\n",
    "        (\"CB-12025\", \"CassandraBrandow\", \"aimeejacobs870@gmail.com\", \"2489344344\", \n",
    "        \"USCGC Johnson FPO AE 24361\", \"Consumer\", \"United States\", \n",
    "        \"East Orange\", \"New Jersey\", \"7017\", \"East\")\n",
    "    ]\n",
    "    cleaned_customers_df = spark.createDataFrame(customer_data, customer_schema)\n",
    "\n",
    "    orders_schema = StructType([\n",
    "        StructField(\"customer_id\", StringType(), True),\n",
    "        StructField(\"discount\", DecimalType(10, 2), True),\n",
    "        StructField(\"order_date\", DateType(), True),\n",
    "        StructField(\"order_id\", StringType(), True),\n",
    "        StructField(\"price\", DecimalType(10, 2), True),\n",
    "        StructField(\"product_id\", StringType(), True),\n",
    "        StructField(\"profit\", DecimalType(10, 2), True),\n",
    "        StructField(\"quantity\", IntegerType(), True),\n",
    "        StructField(\"row_id\", StringType(), True),\n",
    "        StructField(\"ship_date\", DateType(), True),\n",
    "        StructField(\"ship_mode\", StringType(), True)\n",
    "    ])\n",
    "    orders_data = [\n",
    "            (\"CB-12025\", Decimal(\"0.00\"), datetime.strptime(\"2016-11-27\", \"%Y-%m-%d\").date(), \"CA-2016-117583\", Decimal(\"79.95\"), \"OFF-BI-10004233\", Decimal(\"38.38\"), 5, \"6\", datetime.strptime(\"2016-11-30\", \"%Y-%m-%d\").date(), \"First Class\")\n",
    "        ]\n",
    "    cleaned_orders_df = spark.createDataFrame(orders_data, orders_schema)\n",
    "\n",
    "    products_schema = StructType([\n",
    "        StructField(\"product_id\", StringType(), True),\n",
    "        StructField(\"category\", StringType(), True),\n",
    "        StructField(\"sub_category\", StringType(), True),\n",
    "        StructField(\"product_name\", StringType(), True),\n",
    "        StructField(\"state\", StringType(), True),\n",
    "        StructField(\"price_per_product\", DecimalType(10, 2), True)\n",
    "    ])\n",
    "    products_data = [\n",
    "        (\"OFF-BI-10004233\", \"Office Supplies\", \"Binders\", 'GBC Pre-Punched Binding Paper, Plastic, White, 8-1/2\" x 11\"', \"New Jersey\", Decimal(\"15.99\"))\n",
    "    ]\n",
    "    cleaned_products_df = spark.createDataFrame(products_data, products_schema)\n",
    "    enriched_master_orders_df = create_enriched_orders_df(cleaned_customers_df, cleaned_orders_df, cleaned_products_df)\n",
    "\n",
    "    assert enriched_master_orders_df.count() == 1\n",
    "    assert tuple(enriched_master_orders_df.collect()[0]) == (\"CB-12025\", \"CassandraBrandow\", \"United States\",\n",
    "                                                                \"GBC Pre-Punched Binding Paper, Plastic, White, 8-1/2\\\" x 11\\\"\", \"Binders\", \"Office Supplies\", Decimal(\"79.95\"),\n",
    "                                                                5, Decimal(\"0.00\"), Decimal(\"38.38\"),\n",
    "                                                                datetime.strptime(\"2016-11-27\", \"%Y-%m-%d\").date(),\n",
    "                                                                datetime.strptime(\"2016-11-30\", \"%Y-%m-%d\").date(),\n",
    "                                                                \"First Class\")\n",
    "    logger.info(\"test_create_enriched_orders_df: PASSED\")"
   ]
  },
  {
   "cell_type": "code",
   "execution_count": 0,
   "metadata": {
    "application/vnd.databricks.v1+cell": {
     "cellMetadata": {
      "byteLimit": 2048000,
      "rowLimit": 10000
     },
     "inputWidgets": {},
     "nuid": "6a1172db-2691-41da-b2b1-cd86e342dbbe",
     "showTitle": false,
     "tableResultSettingsMap": {},
     "title": ""
    }
   },
   "outputs": [],
   "source": [
    "# Test create_aggregated_profit_df function\n",
    "def test_create_aggregated_profit_df():\n",
    "    # Create sample enriched orders data\n",
    "    enriched_data_schema = StructType([\n",
    "        StructField(\"customer_id\", StringType(), True),\n",
    "        StructField(\"customer_name\", StringType(), True),\n",
    "        StructField(\"country\", StringType(), True),\n",
    "        StructField(\"product_name\", StringType(), True),\n",
    "        StructField(\"sub_category\", StringType(), True),\n",
    "        StructField(\"category\", StringType(), True),\n",
    "        StructField(\"price\", DecimalType(10, 2), True),\n",
    "        StructField(\"quantity\", IntegerType(), True),\n",
    "        StructField(\"discount\", DecimalType(10, 2), True),\n",
    "        StructField(\"profit\", DecimalType(11, 2), True),\n",
    "        StructField(\"order_date\", DateType(), True),\n",
    "        StructField(\"ship_date\", DateType(), True),\n",
    "        StructField(\"ship_mode\", StringType(), True)\n",
    "    ])\n",
    "\n",
    "    enriched_data = [\n",
    "        (\"LS-16945\", \"LindaSouthworth\", \"United States\",\n",
    "        \"Hon 4700 Series Mobuis Mid-Back Task Chairs with Adjustable Arms\", \"Chairs\",\n",
    "        \"Furniture\", Decimal(\"854.35\"), 3, Decimal(\"0.20\"), Decimal(\"11.00\"),\n",
    "        datetime.strptime(\"2016-07-18\", \"%Y-%m-%d\").date(),\n",
    "        datetime.strptime(\"2016-07-24\", \"%Y-%m-%d\").date(),\n",
    "        \"Standard Class\"\n",
    "        ),\n",
    "        (\n",
    "        \"LS-16945\", \"LindaSouthworth\", \"United States\",\n",
    "        \"Hon GuestStacker Chair\", \"Chairs\", \"Furniture\",\n",
    "        Decimal(\"544.01\"), 3, Decimal(\"0.20\"), Decimal(\"40.80\"),\n",
    "        datetime.strptime(\"2016-07-18\", \"%Y-%m-%d\").date(),\n",
    "        datetime.strptime(\"2016-07-24\", \"%Y-%m-%d\").date(),\n",
    "        \"Standard Class\"\n",
    "        )\n",
    "    ]\n",
    "\n",
    "    enriched_data_df = spark.createDataFrame(enriched_data, enriched_data_schema)\n",
    "\n",
    "    aggregated_profit_df = create_aggregated_profit_df(enriched_data_df)\n",
    "    \n",
    "    assert aggregated_profit_df.count() == 1\n",
    "    assert (\n",
    "        tuple(aggregated_profit_df.collect()[0]) == \n",
    "                                    (2016, \"Furniture\", \"Chairs\", \"LS-16945\", \"LindaSouthworth\", Decimal(\"51.80\"))\n",
    "    )\n",
    "    logger.info(\"test_create_aggregated_profit_df: PASSED\")"
   ]
  },
  {
   "cell_type": "code",
   "execution_count": 0,
   "metadata": {
    "application/vnd.databricks.v1+cell": {
     "cellMetadata": {
      "byteLimit": 2048000,
      "rowLimit": 10000
     },
     "inputWidgets": {},
     "nuid": "b0b50908-dd25-4178-84be-92447ecefb6a",
     "showTitle": false,
     "tableResultSettingsMap": {},
     "title": ""
    }
   },
   "outputs": [],
   "source": [
    "# Run all tests\n",
    "def run_tests():\n",
    "    tests = [\n",
    "        test_read_raw_customers,\n",
    "        test_read_raw_orders,\n",
    "        test_read_raw_products,\n",
    "        test_clean_customers,\n",
    "        test_clean_orders,\n",
    "        test_clean_products,\n",
    "        test_create_enriched_orders_df,\n",
    "        test_create_aggregated_profit_df\n",
    "    ]\n",
    "    for test in tests:\n",
    "        try:\n",
    "            test()\n",
    "        except AssertionError as e:\n",
    "            logger.error(f\"{test.__name__}: FAILED - {str(e)}\")\n",
    "        except Exception as e:\n",
    "            logger.error(f\"{test.__name__}: ERROR - {str(e)}\")"
   ]
  },
  {
   "cell_type": "code",
   "execution_count": 0,
   "metadata": {
    "application/vnd.databricks.v1+cell": {
     "cellMetadata": {
      "byteLimit": 2048000,
      "rowLimit": 10000
     },
     "inputWidgets": {},
     "nuid": "753813e0-a849-4d34-9a8f-5ebc78ca70a7",
     "showTitle": false,
     "tableResultSettingsMap": {},
     "title": ""
    }
   },
   "outputs": [
    {
     "output_type": "stream",
     "name": "stderr",
     "output_type": "stream",
     "text": [
      "INFO:__main__:test_read_raw_customers: PASSED\nINFO:__main__:test_read_raw_orders: PASSED\nINFO:__main__:test_read_raw_products: PASSED\nINFO:__main__:test_clean_customers: PASSED\nINFO:__main__:test_clean_orders: PASSED\nINFO:__main__:test_clean_products: PASSED\nINFO:__main__:test_create_enriched_orders_df: PASSED\nINFO:__main__:test_create_aggregated_profit_df: PASSED\n"
     ]
    },
    {
     "output_type": "stream",
     "name": "stderr",
     "output_type": "stream",
     "text": [
      "INFO:py4j.clientserver:Received command c on object id p0\n"
     ]
    }
   ],
   "source": [
    "# Execute tests\n",
    "run_tests()"
   ]
  }
 ],
 "metadata": {
  "application/vnd.databricks.v1+notebook": {
   "computePreferences": {
    "hardware": {
     "accelerator": null,
     "gpuPoolId": null,
     "memory": null
    }
   },
   "dashboards": [],
   "environmentMetadata": {
    "base_environment": "",
    "environment_version": "2"
   },
   "inputWidgetPreferences": null,
   "language": "python",
   "notebookMetadata": {
    "pythonIndentUnit": 4
   },
   "notebookName": "tests_sales_data_processing",
   "widgets": {}
  },
  "language_info": {
   "name": "python"
  }
 },
 "nbformat": 4,
 "nbformat_minor": 0
}